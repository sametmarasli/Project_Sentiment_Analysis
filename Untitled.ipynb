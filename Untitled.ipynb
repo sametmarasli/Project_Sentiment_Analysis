{
 "cells": [
  {
   "cell_type": "markdown",
   "metadata": {},
   "source": [
    "# Sentiment Analysis on IMBD Movie Reviews\n",
    "\n",
    "#### Introduction\n",
    "\n",
    "This project is an attempt to reproduce Bo Pang, Lillian Lee, Shivakumar Vaithyanathan's paper on sentiment classification using machine learning techniques. The study considers the problem of classifying documents by overall sentiment, namely determining whether a review is positive or negative. Using movie reviews as data, we find that standard machine learning techniques ( Logistic Regression, Naive Bayes and Support Vector Machines) definitively out perform human-produced baselines. \n",
    "\n",
    "#### Experimental Set-up\n",
    "\n",
    "##### Data\n",
    "\n",
    "For our experiments, we used documents from the movie-review corpus. This domain is experimentally convenient because there are large online collections of such reviews, and because reviewers often summarize their overall sentiment with a machine-extractable rating indicator, such as a number of stars; hence, we did not need to hand-label the data for supervised learning or evaluation purposes. The data is downloaded from the paper's website. To create a data set with uniform class distribution we randomly selected 1000 positive-sentiment and 1000 negative-sentiment documents.\n",
    "\n",
    "##### Method\n",
    "\n",
    "The data was already preprocessed by the authors(HTML tags were extracted). Then, it was divided into two folds (train and test), maintaining balanced class distributions in each fold. No stemming or stoplists were used.\n",
    "\n",
    "Words from documents were extracted with bag of words model with unigrams and both unigrams and bigrams. Three types of word vector representation were implemented on the data: the presence of terms(only binary values), raw term frequencies and TF-IDF values.\n",
    "\n",
    "Three models were used for the classification problem: Logistic Regression with L1 and L2 regularization, SVM with linear kernel and Multinominal Naive Bayes. Hyperparameters were tuned with scikit-learn's GridSearchCV module with 5-fold cross validation to assess the model performance. \n",
    "\n",
    "The performance of the models were evaluated both with accuracy ($ACC= \\frac{TP+TN}{FN+FP+TP+TN}$) and F1-score metrics ($  PRE=\\frac{TP}{TP+FP} ~~ REC=\\frac{TP}{TP+FN} ~~ F1=2\\times \\frac{PRE\\times REC}{PRE+REC} $.) Receiver operator characteristic (ROC) graphs were also used for evaluating models. Based on the ROC curve, so-called area under the curve (AUC) is calculated to characterize the performance of a classification model.\n",
    "\n",
    "#### Findings\n",
    "\n",
    "| Features |  Frequency <br/> or Presence? || Accuracy | || F1-Score ||\n",
    "| :---: |  :---:  | ---:  |  :---:  |   :--- |   ---: |   :---: |   :--- |\n",
    "|  |                          | **NB** | **LogReg** | **SVM** | **NB** | **LogReg** | **SVM** |\n",
    "| unirams  | pres.            | 0.78  |     **0.83 **    |0.52     | 0.76  | **0.85**  | 0.68  |\n",
    "| unirams    | freq.          | **0.90**  |     0.82     |   0.81   | 0.80  | ** 0.83** |0.80\n",
    "| unirams    | tf-idf         | 0.81  |     **0.83**     |   0.82   | 0.82  |** 0.83  **| 0.82  | \n",
    "| unigram + bigrams   |  freq.| 0.79  |     **0.82**     |  **0.82 **  | 0.80  |** 0.83 ** | **0.83 ** |\n",
    "| unigram + bigrams   | tf-idf| **0.81**  |     **0.81**     |  **0.81 **  |**0.82 **  | **0.82 ** |**0.82**   |\n",
    "\n",
    "\n",
    "*Bo Pang, Lillian Lee, Shivakumar Vaithyanathan -  Thumbs up? Sentiment Classification using Machine Learning Techniques\n",
    "http://www.cs.cornell.edu/people/pabo/movie-review-data/ *"
   ]
  },
  {
   "cell_type": "code",
   "execution_count": 1,
   "metadata": {
    "collapsed": true
   },
   "outputs": [],
   "source": [
    "import pyprind\n",
    "import pandas as pd\n",
    "import os\n",
    "import numpy as np\n",
    "from matplotlib import pyplot as plt\n",
    "import re\n",
    "from __future__ import division\n",
    "\n",
    "%matplotlib inline"
   ]
  },
  {
   "cell_type": "markdown",
   "metadata": {},
   "source": [
    "<br>\n",
    "# Obtaining the IMDb movie review dataset"
   ]
  },
  {
   "cell_type": "code",
   "execution_count": 2,
   "metadata": {
    "collapsed": false
   },
   "outputs": [
    {
     "name": "stderr",
     "output_type": "stream",
     "text": [
      "0% [##############################] 100% | ETA: 00:00:00\n",
      "Total time elapsed: 00:00:04\n"
     ]
    }
   ],
   "source": [
    "basepath = './txt_sentoken/'\n",
    "\n",
    "labels = {'pos':1, 'neg':0}\n",
    "pbar = pyprind.ProgBar(2000)\n",
    "df = pd.DataFrame()\n",
    "\n",
    "for l in ('pos', 'neg'):\n",
    "    path = os.path.join(basepath, l)\n",
    "    for file in os.listdir(path):\n",
    "        with open(os.path.join(path ,file), 'r') as infile:\n",
    "            txt = infile.read()\n",
    "        df =  df.append([[unicode(txt, 'utf-8'), labels[l]]], ignore_index=True)\n",
    "        pbar.update()\n",
    "df.columns= ['review', 'sentiment']"
   ]
  },
  {
   "cell_type": "markdown",
   "metadata": {},
   "source": [
    "Shuffling the DataFrame:"
   ]
  },
  {
   "cell_type": "code",
   "execution_count": 3,
   "metadata": {
    "collapsed": false,
    "scrolled": true
   },
   "outputs": [],
   "source": [
    "np.random.seed(0)\n",
    "df = df.reindex(np.random.permutation(df.index))"
   ]
  },
  {
   "cell_type": "code",
   "execution_count": 4,
   "metadata": {
    "collapsed": false
   },
   "outputs": [
    {
     "data": {
      "text/html": [
       "<div>\n",
       "<style>\n",
       "    .dataframe thead tr:only-child th {\n",
       "        text-align: right;\n",
       "    }\n",
       "\n",
       "    .dataframe thead th {\n",
       "        text-align: left;\n",
       "    }\n",
       "\n",
       "    .dataframe tbody tr th {\n",
       "        vertical-align: top;\n",
       "    }\n",
       "</style>\n",
       "<table border=\"1\" class=\"dataframe\">\n",
       "  <thead>\n",
       "    <tr style=\"text-align: right;\">\n",
       "      <th></th>\n",
       "      <th>review</th>\n",
       "      <th>sentiment</th>\n",
       "    </tr>\n",
       "  </thead>\n",
       "  <tbody>\n",
       "    <tr>\n",
       "      <th>405</th>\n",
       "      <td>eyes wide shut isn't the masterpiece many were...</td>\n",
       "      <td>1</td>\n",
       "    </tr>\n",
       "    <tr>\n",
       "      <th>1190</th>\n",
       "      <td>plot : a down-and-out girl moves in with some ...</td>\n",
       "      <td>0</td>\n",
       "    </tr>\n",
       "    <tr>\n",
       "      <th>1132</th>\n",
       "      <td>\" love to kill \" starts off aimlessly and get...</td>\n",
       "      <td>0</td>\n",
       "    </tr>\n",
       "    <tr>\n",
       "      <th>731</th>\n",
       "      <td>synopsis : in phantom menace the galaxy is div...</td>\n",
       "      <td>1</td>\n",
       "    </tr>\n",
       "    <tr>\n",
       "      <th>1754</th>\n",
       "      <td>tommy lee jones chases an innocent victim arou...</td>\n",
       "      <td>0</td>\n",
       "    </tr>\n",
       "  </tbody>\n",
       "</table>\n",
       "</div>"
      ],
      "text/plain": [
       "                                                 review  sentiment\n",
       "405   eyes wide shut isn't the masterpiece many were...          1\n",
       "1190  plot : a down-and-out girl moves in with some ...          0\n",
       "1132   \" love to kill \" starts off aimlessly and get...          0\n",
       "731   synopsis : in phantom menace the galaxy is div...          1\n",
       "1754  tommy lee jones chases an innocent victim arou...          0"
      ]
     },
     "execution_count": 4,
     "metadata": {},
     "output_type": "execute_result"
    }
   ],
   "source": [
    "df.head()"
   ]
  },
  {
   "cell_type": "markdown",
   "metadata": {
    "collapsed": true
   },
   "source": [
    "Lowering the letters"
   ]
  },
  {
   "cell_type": "code",
   "execution_count": 5,
   "metadata": {
    "collapsed": true
   },
   "outputs": [],
   "source": [
    "def preprocessor(text):\n",
    "    text = re.sub('[\\W]+', ' ', text.lower())\n",
    "    return text"
   ]
  },
  {
   "cell_type": "code",
   "execution_count": 6,
   "metadata": {
    "collapsed": true
   },
   "outputs": [],
   "source": [
    "df['review'] = df['review'].apply(preprocessor)"
   ]
  },
  {
   "cell_type": "markdown",
   "metadata": {},
   "source": [
    "<br>\n",
    "# Learning"
   ]
  },
  {
   "cell_type": "code",
   "execution_count": 7,
   "metadata": {
    "collapsed": true
   },
   "outputs": [],
   "source": [
    "X_train = df.iloc[:1000, 0].values\n",
    "y_train = df.iloc[:1000, 1].values\n",
    "X_test = df.iloc[1500:, 0].values\n",
    "y_test = df.iloc[1500:, 1].values"
   ]
  },
  {
   "cell_type": "code",
   "execution_count": 8,
   "metadata": {
    "collapsed": true
   },
   "outputs": [],
   "source": [
    "# Create a small dataset for debugging\n",
    "# X_train = df.iloc[:10, 0].values\n",
    "# y_train = df.iloc[:10, 1].values\n",
    "# X_test = df.iloc[1990:, 0].values\n",
    "# y_test = df.iloc[1990:, 1].values"
   ]
  },
  {
   "cell_type": "markdown",
   "metadata": {},
   "source": [
    "<br>\n",
    "## i - Logistic Regression"
   ]
  },
  {
   "cell_type": "code",
   "execution_count": 9,
   "metadata": {
    "collapsed": false,
    "scrolled": true
   },
   "outputs": [],
   "source": [
    "from sklearn.feature_extraction.text import CountVectorizer\n",
    "from sklearn.pipeline import Pipeline\n",
    "from sklearn.linear_model import LogisticRegression\n",
    "from sklearn.feature_extraction.text import TfidfVectorizer\n",
    "from sklearn.model_selection import GridSearchCV"
   ]
  },
  {
   "cell_type": "code",
   "execution_count": 10,
   "metadata": {
    "collapsed": true
   },
   "outputs": [],
   "source": [
    "tfidf = TfidfVectorizer(strip_accents=None,\n",
    "                        lowercase=False,\n",
    "                        preprocessor=None)"
   ]
  },
  {
   "cell_type": "markdown",
   "metadata": {},
   "source": [
    "#### a. Using Term Presence"
   ]
  },
  {
   "cell_type": "code",
   "execution_count": 11,
   "metadata": {
    "collapsed": false
   },
   "outputs": [
    {
     "data": {
      "text/plain": [
       "(1000, 29725)"
      ]
     },
     "execution_count": 11,
     "metadata": {},
     "output_type": "execute_result"
    }
   ],
   "source": [
    "count = CountVectorizer()\n",
    "bag = count.fit_transform(X_train)\n",
    "X_pre = (bag.toarray()!=0).astype(int)\n",
    "X_pre_test = count.transform(X_test).toarray()\n",
    "X_pre.shape"
   ]
  },
  {
   "cell_type": "code",
   "execution_count": 12,
   "metadata": {
    "collapsed": false,
    "scrolled": true
   },
   "outputs": [],
   "source": [
    "param_grid = [{'clf__penalty': ['l1', 'l2'],\n",
    "               'clf__C': [0.01, 1.0, 10.0, 100.0]}]\n",
    "\n",
    "\n",
    "lr_tp = Pipeline([('clf', LogisticRegression(random_state=0))])\n",
    "\n",
    "gs_lr_tp = GridSearchCV(lr_tp, param_grid,\n",
    "                           scoring='accuracy',\n",
    "                           cv=5,\n",
    "                           verbose=0,\n",
    "                           n_jobs=-1)"
   ]
  },
  {
   "cell_type": "code",
   "execution_count": 13,
   "metadata": {
    "collapsed": false
   },
   "outputs": [
    {
     "data": {
      "text/plain": [
       "GridSearchCV(cv=5, error_score='raise',\n",
       "       estimator=Pipeline(steps=[('clf', LogisticRegression(C=1.0, class_weight=None, dual=False, fit_intercept=True,\n",
       "          intercept_scaling=1, max_iter=100, multi_class='ovr', n_jobs=1,\n",
       "          penalty='l2', random_state=0, solver='liblinear', tol=0.0001,\n",
       "          verbose=0, warm_start=False))]),\n",
       "       fit_params={}, iid=True, n_jobs=-1,\n",
       "       param_grid=[{'clf__penalty': ['l1', 'l2'], 'clf__C': [0.01, 1.0, 10.0, 100.0]}],\n",
       "       pre_dispatch='2*n_jobs', refit=True, return_train_score=True,\n",
       "       scoring='accuracy', verbose=0)"
      ]
     },
     "execution_count": 13,
     "metadata": {},
     "output_type": "execute_result"
    }
   ],
   "source": [
    "gs_lr_tp.fit(X_pre, y_train)"
   ]
  },
  {
   "cell_type": "code",
   "execution_count": 14,
   "metadata": {
    "collapsed": false
   },
   "outputs": [
    {
     "name": "stdout",
     "output_type": "stream",
     "text": [
      "Best parameter set : {'clf__penalty': 'l2', 'clf__C': 10.0}\n",
      "CV Accuracy: 0.866\n"
     ]
    }
   ],
   "source": [
    "print 'Best parameter set :', gs_lr_tp.best_params_\n",
    "print 'CV Accuracy: %.3f' % gs_lr_tp.best_score_"
   ]
  },
  {
   "cell_type": "code",
   "execution_count": 15,
   "metadata": {
    "collapsed": false
   },
   "outputs": [
    {
     "name": "stdout",
     "output_type": "stream",
     "text": [
      "Test Accuracy: 0.830\n"
     ]
    }
   ],
   "source": [
    "clf_lr_tp = gs_lr_tp.best_estimator_\n",
    "print 'Test Accuracy: %.3f' %clf_lr_tp.score(X_pre_test,y_test)"
   ]
  },
  {
   "cell_type": "markdown",
   "metadata": {},
   "source": [
    "<br>\n",
    "#### b. Using Raw Term Frequencies "
   ]
  },
  {
   "cell_type": "markdown",
   "metadata": {},
   "source": [
    "####  Unigrams"
   ]
  },
  {
   "cell_type": "code",
   "execution_count": 16,
   "metadata": {
    "collapsed": true
   },
   "outputs": [],
   "source": [
    "param_grid = [{'vect__ngram_range': [(1, 1)],\n",
    "               'vect__use_idf':[False],\n",
    "               'vect__norm':[None],\n",
    "               'clf__penalty': ['l1', 'l2'],\n",
    "               'clf__C': [0.01, 1.0, 10.0, 100.0]},\n",
    "              ]\n",
    "\n",
    "\n",
    "lr_u_rf = Pipeline([('vect', tfidf),\n",
    "                     ('clf', LogisticRegression(random_state=0))])\n",
    "\n",
    "gs_lr_u_rf = GridSearchCV(lr_u_rf, param_grid,\n",
    "                           scoring='accuracy',\n",
    "                           cv=5,\n",
    "                           verbose=0,\n",
    "                           n_jobs=-1)"
   ]
  },
  {
   "cell_type": "code",
   "execution_count": 17,
   "metadata": {
    "collapsed": false
   },
   "outputs": [
    {
     "data": {
      "text/plain": [
       "GridSearchCV(cv=5, error_score='raise',\n",
       "       estimator=Pipeline(steps=[('vect', TfidfVectorizer(analyzer=u'word', binary=False, decode_error=u'strict',\n",
       "        dtype=<type 'numpy.int64'>, encoding=u'utf-8', input=u'content',\n",
       "        lowercase=False, max_df=1.0, max_features=None, min_df=1,\n",
       "        ngram_range=(1, 1), norm=u'l2', preprocessor=None, smooth_idf=Tru...nalty='l2', random_state=0, solver='liblinear', tol=0.0001,\n",
       "          verbose=0, warm_start=False))]),\n",
       "       fit_params={}, iid=True, n_jobs=-1,\n",
       "       param_grid=[{'vect__ngram_range': [(1, 1)], 'vect__norm': [None], 'vect__use_idf': [False], 'clf__C': [0.01, 1.0, 10.0, 100.0], 'clf__penalty': ['l1', 'l2']}],\n",
       "       pre_dispatch='2*n_jobs', refit=True, return_train_score=True,\n",
       "       scoring='accuracy', verbose=0)"
      ]
     },
     "execution_count": 17,
     "metadata": {},
     "output_type": "execute_result"
    }
   ],
   "source": [
    "gs_lr_u_rf.fit(X_train, y_train)"
   ]
  },
  {
   "cell_type": "code",
   "execution_count": 18,
   "metadata": {
    "collapsed": false
   },
   "outputs": [
    {
     "name": "stdout",
     "output_type": "stream",
     "text": [
      "Best parameter set:  {'vect__ngram_range': (1, 1), 'vect__norm': None, 'clf__penalty': 'l2', 'clf__C': 1.0, 'vect__use_idf': False}\n",
      "CV Accuracy:  0.825\n"
     ]
    }
   ],
   "source": [
    "print 'Best parameter set: ', gs_lr_u_rf.best_params_\n",
    "print 'CV Accuracy: ',gs_lr_u_rf.best_score_"
   ]
  },
  {
   "cell_type": "code",
   "execution_count": 19,
   "metadata": {
    "collapsed": false
   },
   "outputs": [
    {
     "name": "stdout",
     "output_type": "stream",
     "text": [
      "Test Accuracy: 0.822\n"
     ]
    }
   ],
   "source": [
    "clf_lr_u_rf = gs_lr_u_rf.best_estimator_\n",
    "print 'Test Accuracy: %.3f' % clf_lr_u_rf.score(X_test,y_test)"
   ]
  },
  {
   "cell_type": "markdown",
   "metadata": {},
   "source": [
    "####  Unigrams + Bigrams"
   ]
  },
  {
   "cell_type": "code",
   "execution_count": 20,
   "metadata": {
    "collapsed": true
   },
   "outputs": [],
   "source": [
    "param_grid = [{'vect__ngram_range': [(1, 2)],\n",
    "               'vect__use_idf':[False],\n",
    "               'vect__norm':[None],\n",
    "               'clf__penalty': ['l1', 'l2'],\n",
    "               'clf__C': [0.01, 1.0, 10.0, 100.0]},\n",
    "              ]\n",
    "\n",
    "\n",
    "lr_b_rf = Pipeline([('vect', tfidf),\n",
    "                     ('clf', LogisticRegression(random_state=0))])\n",
    "\n",
    "gs_lr_b_rf = GridSearchCV(lr_b_rf, param_grid,\n",
    "                           scoring='accuracy',\n",
    "                           cv=5,\n",
    "                           verbose=0,\n",
    "                           n_jobs=-1)"
   ]
  },
  {
   "cell_type": "code",
   "execution_count": 21,
   "metadata": {
    "collapsed": false
   },
   "outputs": [
    {
     "data": {
      "text/plain": [
       "GridSearchCV(cv=5, error_score='raise',\n",
       "       estimator=Pipeline(steps=[('vect', TfidfVectorizer(analyzer=u'word', binary=False, decode_error=u'strict',\n",
       "        dtype=<type 'numpy.int64'>, encoding=u'utf-8', input=u'content',\n",
       "        lowercase=False, max_df=1.0, max_features=None, min_df=1,\n",
       "        ngram_range=(1, 1), norm=u'l2', preprocessor=None, smooth_idf=Tru...nalty='l2', random_state=0, solver='liblinear', tol=0.0001,\n",
       "          verbose=0, warm_start=False))]),\n",
       "       fit_params={}, iid=True, n_jobs=-1,\n",
       "       param_grid=[{'vect__ngram_range': [(1, 2)], 'vect__norm': [None], 'vect__use_idf': [False], 'clf__C': [0.01, 1.0, 10.0, 100.0], 'clf__penalty': ['l1', 'l2']}],\n",
       "       pre_dispatch='2*n_jobs', refit=True, return_train_score=True,\n",
       "       scoring='accuracy', verbose=0)"
      ]
     },
     "execution_count": 21,
     "metadata": {},
     "output_type": "execute_result"
    }
   ],
   "source": [
    "gs_lr_b_rf.fit(X_train, y_train)"
   ]
  },
  {
   "cell_type": "code",
   "execution_count": 22,
   "metadata": {
    "collapsed": false
   },
   "outputs": [
    {
     "name": "stdout",
     "output_type": "stream",
     "text": [
      "Best parameter set:  {'vect__ngram_range': (1, 2), 'vect__norm': None, 'clf__penalty': 'l2', 'clf__C': 1.0, 'vect__use_idf': False}\n",
      "CV Accuracy:  0.828\n"
     ]
    }
   ],
   "source": [
    "print 'Best parameter set: ', gs_lr_b_rf.best_params_\n",
    "print 'CV Accuracy: ',gs_lr_b_rf.best_score_"
   ]
  },
  {
   "cell_type": "code",
   "execution_count": 23,
   "metadata": {
    "collapsed": false
   },
   "outputs": [
    {
     "name": "stdout",
     "output_type": "stream",
     "text": [
      "Test Accuracy: 0.828\n"
     ]
    }
   ],
   "source": [
    "clf_lr_b_rf = gs_lr_b_rf.best_estimator_\n",
    "print 'Test Accuracy: %.3f' % clf_lr_b_rf.score(X_test,y_test)"
   ]
  },
  {
   "cell_type": "markdown",
   "metadata": {},
   "source": [
    "<br>\n",
    "#### c. Using TF-ITF"
   ]
  },
  {
   "cell_type": "markdown",
   "metadata": {},
   "source": [
    "#### Unigrams"
   ]
  },
  {
   "cell_type": "code",
   "execution_count": 24,
   "metadata": {
    "collapsed": true
   },
   "outputs": [],
   "source": [
    "param_grid = [{'vect__ngram_range': [(1, 1)],\n",
    "               'clf__penalty': ['l1', 'l2'],\n",
    "               'clf__C': [0.01, 1.0, 10.0, 100.0]}]\n",
    "\n",
    "\n",
    "lr_u_tfidf = Pipeline([('vect', tfidf),\n",
    "                     ('clf', LogisticRegression(random_state=0))])\n",
    "\n",
    "gs_lr_u_tfidf = GridSearchCV(lr_u_tfidf, param_grid,\n",
    "                           scoring='accuracy',\n",
    "                           cv=5,\n",
    "                           verbose=0,\n",
    "                           n_jobs=-1)"
   ]
  },
  {
   "cell_type": "code",
   "execution_count": 25,
   "metadata": {
    "collapsed": false
   },
   "outputs": [
    {
     "data": {
      "text/plain": [
       "GridSearchCV(cv=5, error_score='raise',\n",
       "       estimator=Pipeline(steps=[('vect', TfidfVectorizer(analyzer=u'word', binary=False, decode_error=u'strict',\n",
       "        dtype=<type 'numpy.int64'>, encoding=u'utf-8', input=u'content',\n",
       "        lowercase=False, max_df=1.0, max_features=None, min_df=1,\n",
       "        ngram_range=(1, 1), norm=u'l2', preprocessor=None, smooth_idf=Tru...nalty='l2', random_state=0, solver='liblinear', tol=0.0001,\n",
       "          verbose=0, warm_start=False))]),\n",
       "       fit_params={}, iid=True, n_jobs=-1,\n",
       "       param_grid=[{'vect__ngram_range': [(1, 1)], 'clf__penalty': ['l1', 'l2'], 'clf__C': [0.01, 1.0, 10.0, 100.0]}],\n",
       "       pre_dispatch='2*n_jobs', refit=True, return_train_score=True,\n",
       "       scoring='accuracy', verbose=0)"
      ]
     },
     "execution_count": 25,
     "metadata": {},
     "output_type": "execute_result"
    }
   ],
   "source": [
    "gs_lr_u_tfidf.fit(X_train, y_train)"
   ]
  },
  {
   "cell_type": "code",
   "execution_count": 26,
   "metadata": {
    "collapsed": false
   },
   "outputs": [
    {
     "name": "stdout",
     "output_type": "stream",
     "text": [
      "Best parameter set:  {'vect__ngram_range': (1, 1), 'clf__penalty': 'l2', 'clf__C': 100.0}\n",
      "CV Accuracy:  0.831\n"
     ]
    }
   ],
   "source": [
    "print 'Best parameter set: ', gs_lr_u_tfidf.best_params_\n",
    "print 'CV Accuracy: ',gs_lr_u_tfidf.best_score_"
   ]
  },
  {
   "cell_type": "code",
   "execution_count": 27,
   "metadata": {
    "collapsed": false
   },
   "outputs": [
    {
     "name": "stdout",
     "output_type": "stream",
     "text": [
      "Test Accuracy: 0.822\n"
     ]
    }
   ],
   "source": [
    "clf_lr_u_tfidf = gs_lr_u_tfidf.best_estimator_\n",
    "print 'Test Accuracy: %.3f' % clf_lr_u_tfidf.score(X_test,y_test)"
   ]
  },
  {
   "cell_type": "markdown",
   "metadata": {
    "collapsed": true
   },
   "source": [
    "#### Unigrams + Bigrams"
   ]
  },
  {
   "cell_type": "code",
   "execution_count": 28,
   "metadata": {
    "collapsed": true
   },
   "outputs": [],
   "source": [
    "param_grid = [{'vect__ngram_range': [(1, 2)],\n",
    "               'clf__penalty': ['l1', 'l2'],\n",
    "               'clf__C': [0.01, 1.0, 10.0, 100.0]}]\n",
    "\n",
    "\n",
    "lr_b_tfidf = Pipeline([('vect', tfidf),\n",
    "                     ('clf', LogisticRegression(random_state=0))])\n",
    "\n",
    "gs_lr_b_tfidf = GridSearchCV(lr_b_tfidf, param_grid,\n",
    "                           scoring='accuracy',\n",
    "                           cv=5,\n",
    "                           verbose=0,\n",
    "                           n_jobs=-1)"
   ]
  },
  {
   "cell_type": "code",
   "execution_count": 29,
   "metadata": {
    "collapsed": false
   },
   "outputs": [
    {
     "data": {
      "text/plain": [
       "GridSearchCV(cv=5, error_score='raise',\n",
       "       estimator=Pipeline(steps=[('vect', TfidfVectorizer(analyzer=u'word', binary=False, decode_error=u'strict',\n",
       "        dtype=<type 'numpy.int64'>, encoding=u'utf-8', input=u'content',\n",
       "        lowercase=False, max_df=1.0, max_features=None, min_df=1,\n",
       "        ngram_range=(1, 1), norm=u'l2', preprocessor=None, smooth_idf=Tru...nalty='l2', random_state=0, solver='liblinear', tol=0.0001,\n",
       "          verbose=0, warm_start=False))]),\n",
       "       fit_params={}, iid=True, n_jobs=-1,\n",
       "       param_grid=[{'vect__ngram_range': [(1, 2)], 'clf__penalty': ['l1', 'l2'], 'clf__C': [0.01, 1.0, 10.0, 100.0]}],\n",
       "       pre_dispatch='2*n_jobs', refit=True, return_train_score=True,\n",
       "       scoring='accuracy', verbose=0)"
      ]
     },
     "execution_count": 29,
     "metadata": {},
     "output_type": "execute_result"
    }
   ],
   "source": [
    "gs_lr_b_tfidf.fit(X_train, y_train)"
   ]
  },
  {
   "cell_type": "code",
   "execution_count": 30,
   "metadata": {
    "collapsed": false
   },
   "outputs": [
    {
     "name": "stdout",
     "output_type": "stream",
     "text": [
      "Best parameter set:  {'vect__ngram_range': (1, 2), 'clf__penalty': 'l2', 'clf__C': 100.0}\n",
      "CV Accuracy:  0.816\n"
     ]
    }
   ],
   "source": [
    "print 'Best parameter set: ', gs_lr_b_tfidf.best_params_\n",
    "print 'CV Accuracy: ',gs_lr_b_tfidf.best_score_"
   ]
  },
  {
   "cell_type": "code",
   "execution_count": 31,
   "metadata": {
    "collapsed": false
   },
   "outputs": [
    {
     "name": "stdout",
     "output_type": "stream",
     "text": [
      "Test Accuracy: 0.808\n"
     ]
    }
   ],
   "source": [
    "clf_lr_b_tfidf = gs_lr_b_tfidf.best_estimator_\n",
    "print 'Test Accuracy: %.3f' % clf_lr_b_tfidf.score(X_test,y_test)"
   ]
  },
  {
   "cell_type": "markdown",
   "metadata": {},
   "source": [
    "<br>\n",
    "## ii - SVM"
   ]
  },
  {
   "cell_type": "code",
   "execution_count": 32,
   "metadata": {
    "collapsed": true
   },
   "outputs": [],
   "source": [
    "from sklearn.svm import SVC"
   ]
  },
  {
   "cell_type": "markdown",
   "metadata": {},
   "source": [
    "#### <br>\n",
    "#### a. Using Term Presence"
   ]
  },
  {
   "cell_type": "code",
   "execution_count": 33,
   "metadata": {
    "collapsed": false
   },
   "outputs": [],
   "source": [
    "param_grid = [{'clf__C': [0.1, 0.15, 1, 10]}]\n",
    "\n",
    "\n",
    "svc_tp = Pipeline([('clf', SVC(random_state=0,kernel='linear',probability=True, tol=0.1))])\n",
    "\n",
    "gs_svc_tp = GridSearchCV(svc_tp, param_grid,\n",
    "                           scoring='accuracy',\n",
    "                           cv=5,\n",
    "                           verbose=1,\n",
    "                           n_jobs=-1)"
   ]
  },
  {
   "cell_type": "code",
   "execution_count": 34,
   "metadata": {
    "collapsed": false,
    "scrolled": true
   },
   "outputs": [
    {
     "name": "stdout",
     "output_type": "stream",
     "text": [
      "Fitting 5 folds for each of 4 candidates, totalling 20 fits\n"
     ]
    },
    {
     "name": "stderr",
     "output_type": "stream",
     "text": [
      "[Parallel(n_jobs=-1)]: Done  20 out of  20 | elapsed: 25.9min finished\n"
     ]
    },
    {
     "data": {
      "text/plain": [
       "GridSearchCV(cv=5, error_score='raise',\n",
       "       estimator=Pipeline(steps=[('clf', SVC(C=1.0, cache_size=200, class_weight=None, coef0=0.0,\n",
       "  decision_function_shape=None, degree=3, gamma='auto', kernel='linear',\n",
       "  max_iter=-1, probability=True, random_state=0, shrinking=True, tol=0.1,\n",
       "  verbose=False))]),\n",
       "       fit_params={}, iid=True, n_jobs=-1,\n",
       "       param_grid=[{'clf__C': [0.1, 0.15, 1, 10]}],\n",
       "       pre_dispatch='2*n_jobs', refit=True, return_train_score=True,\n",
       "       scoring='accuracy', verbose=1)"
      ]
     },
     "execution_count": 34,
     "metadata": {},
     "output_type": "execute_result"
    }
   ],
   "source": [
    "gs_svc_tp.fit(X_pre, y_train)"
   ]
  },
  {
   "cell_type": "code",
   "execution_count": 35,
   "metadata": {
    "collapsed": false
   },
   "outputs": [
    {
     "name": "stdout",
     "output_type": "stream",
     "text": [
      "Best parameter set :  {'clf__C': 0.1}\n",
      "CV Accuracy:  0.856\n"
     ]
    }
   ],
   "source": [
    "print 'Best parameter set : ' , gs_svc_tp.best_params_\n",
    "print 'CV Accuracy: ' , gs_svc_tp.best_score_"
   ]
  },
  {
   "cell_type": "code",
   "execution_count": 36,
   "metadata": {
    "collapsed": false
   },
   "outputs": [
    {
     "name": "stdout",
     "output_type": "stream",
     "text": [
      "Test Accuracy: 0.520\n"
     ]
    }
   ],
   "source": [
    "clf_svc_tp = gs_svc_tp.best_estimator_\n",
    "print 'Test Accuracy: %.3f' % clf_svc_tp.score(X_pre_test,y_test)"
   ]
  },
  {
   "cell_type": "markdown",
   "metadata": {},
   "source": [
    "#### b. Using Raw Term Frequencies"
   ]
  },
  {
   "cell_type": "markdown",
   "metadata": {},
   "source": [
    "#### Unigrams"
   ]
  },
  {
   "cell_type": "code",
   "execution_count": 37,
   "metadata": {
    "collapsed": false
   },
   "outputs": [],
   "source": [
    "param_grid = [{'vect__ngram_range': [(1, 1)],\n",
    "               'vect__use_idf':[False],\n",
    "               'vect__norm':[None],\n",
    "               'svc__C': [0.1, 0.15, 1, 10]},\n",
    "              ]\n",
    "\n",
    "svc_u_rf = Pipeline([('vect', tfidf),\n",
    "                     (\"svc\", SVC(random_state=0,kernel='linear',probability=True, tol=0.1))])\n",
    "\n",
    "gs_svc_u_rf = GridSearchCV(svc_u_rf, param_grid,\n",
    "                           scoring='accuracy',\n",
    "                           cv=5,\n",
    "                           verbose=0,\n",
    "                           n_jobs=-1)"
   ]
  },
  {
   "cell_type": "code",
   "execution_count": 38,
   "metadata": {
    "collapsed": false
   },
   "outputs": [
    {
     "data": {
      "text/plain": [
       "GridSearchCV(cv=5, error_score='raise',\n",
       "       estimator=Pipeline(steps=[('vect', TfidfVectorizer(analyzer=u'word', binary=False, decode_error=u'strict',\n",
       "        dtype=<type 'numpy.int64'>, encoding=u'utf-8', input=u'content',\n",
       "        lowercase=False, max_df=1.0, max_features=None, min_df=1,\n",
       "        ngram_range=(1, 1), norm=u'l2', preprocessor=None, smooth_idf=Tru...inear',\n",
       "  max_iter=-1, probability=True, random_state=0, shrinking=True, tol=0.1,\n",
       "  verbose=False))]),\n",
       "       fit_params={}, iid=True, n_jobs=-1,\n",
       "       param_grid=[{'vect__ngram_range': [(1, 1)], 'vect__norm': [None], 'vect__use_idf': [False], 'svc__C': [0.1, 0.15, 1, 10]}],\n",
       "       pre_dispatch='2*n_jobs', refit=True, return_train_score=True,\n",
       "       scoring='accuracy', verbose=0)"
      ]
     },
     "execution_count": 38,
     "metadata": {},
     "output_type": "execute_result"
    }
   ],
   "source": [
    "gs_svc_u_rf.fit(X_train, y_train)"
   ]
  },
  {
   "cell_type": "code",
   "execution_count": 39,
   "metadata": {
    "collapsed": false
   },
   "outputs": [
    {
     "name": "stdout",
     "output_type": "stream",
     "text": [
      "Best parameter set :  {'vect__ngram_range': (1, 1), 'vect__norm': None, 'vect__use_idf': False, 'svc__C': 0.1}\n",
      "CV Accuracy:  0.805\n"
     ]
    }
   ],
   "source": [
    "print 'Best parameter set : ' , gs_svc_u_rf.best_params_\n",
    "print 'CV Accuracy: ' , gs_svc_u_rf.best_score_"
   ]
  },
  {
   "cell_type": "code",
   "execution_count": 40,
   "metadata": {
    "collapsed": false
   },
   "outputs": [
    {
     "name": "stdout",
     "output_type": "stream",
     "text": [
      "Test Accuracy: 0.806\n"
     ]
    }
   ],
   "source": [
    "clf_svc_u_rf = gs_svc_u_rf.best_estimator_\n",
    "print 'Test Accuracy: %.3f' % clf_svc_u_rf.score(X_test,y_test)"
   ]
  },
  {
   "cell_type": "markdown",
   "metadata": {
    "collapsed": true
   },
   "source": [
    "#### Unigrams + Bigrams"
   ]
  },
  {
   "cell_type": "code",
   "execution_count": 41,
   "metadata": {
    "collapsed": false
   },
   "outputs": [],
   "source": [
    "param_grid = [{'vect__ngram_range': [(1, 2)],\n",
    "               'vect__use_idf':[False],\n",
    "               'vect__norm':[None],\n",
    "               'svc__C': [0.1, 0.15, 1, 10]},\n",
    "              ]\n",
    "\n",
    "svc_b_rf = Pipeline([('vect', tfidf),\n",
    "                     (\"svc\", SVC(random_state=0,kernel='linear',probability=True, tol=0.1))])\n",
    "\n",
    "gs_svc_b_rf = GridSearchCV(svc_b_rf, param_grid,\n",
    "                           scoring='accuracy',\n",
    "                           cv=5,\n",
    "                           verbose=0,\n",
    "                           n_jobs=-1)"
   ]
  },
  {
   "cell_type": "code",
   "execution_count": 42,
   "metadata": {
    "collapsed": false
   },
   "outputs": [
    {
     "data": {
      "text/plain": [
       "GridSearchCV(cv=5, error_score='raise',\n",
       "       estimator=Pipeline(steps=[('vect', TfidfVectorizer(analyzer=u'word', binary=False, decode_error=u'strict',\n",
       "        dtype=<type 'numpy.int64'>, encoding=u'utf-8', input=u'content',\n",
       "        lowercase=False, max_df=1.0, max_features=None, min_df=1,\n",
       "        ngram_range=(1, 1), norm=u'l2', preprocessor=None, smooth_idf=Tru...inear',\n",
       "  max_iter=-1, probability=True, random_state=0, shrinking=True, tol=0.1,\n",
       "  verbose=False))]),\n",
       "       fit_params={}, iid=True, n_jobs=-1,\n",
       "       param_grid=[{'vect__ngram_range': [(1, 2)], 'vect__norm': [None], 'vect__use_idf': [False], 'svc__C': [0.1, 0.15, 1, 10]}],\n",
       "       pre_dispatch='2*n_jobs', refit=True, return_train_score=True,\n",
       "       scoring='accuracy', verbose=0)"
      ]
     },
     "execution_count": 42,
     "metadata": {},
     "output_type": "execute_result"
    }
   ],
   "source": [
    "gs_svc_b_rf.fit(X_train, y_train)"
   ]
  },
  {
   "cell_type": "code",
   "execution_count": 43,
   "metadata": {
    "collapsed": false
   },
   "outputs": [
    {
     "name": "stdout",
     "output_type": "stream",
     "text": [
      "Best parameter set :  {'vect__ngram_range': (1, 2), 'vect__norm': None, 'vect__use_idf': False, 'svc__C': 0.1}\n",
      "CV Accuracy:  0.812\n"
     ]
    }
   ],
   "source": [
    "print 'Best parameter set : ' , gs_svc_b_rf.best_params_\n",
    "print 'CV Accuracy: ' , gs_svc_b_rf.best_score_"
   ]
  },
  {
   "cell_type": "code",
   "execution_count": 44,
   "metadata": {
    "collapsed": false
   },
   "outputs": [
    {
     "name": "stdout",
     "output_type": "stream",
     "text": [
      "Test Accuracy: 0.822\n"
     ]
    }
   ],
   "source": [
    "clf_svc_b_rf = gs_svc_b_rf.best_estimator_\n",
    "print 'Test Accuracy: %.3f' % clf_svc_b_rf.score(X_test,y_test)"
   ]
  },
  {
   "cell_type": "markdown",
   "metadata": {},
   "source": [
    "<br>\n",
    "#### b. Using TF-ITF"
   ]
  },
  {
   "cell_type": "markdown",
   "metadata": {},
   "source": [
    "#### Unigrams "
   ]
  },
  {
   "cell_type": "code",
   "execution_count": 45,
   "metadata": {
    "collapsed": false
   },
   "outputs": [],
   "source": [
    "param_grid = [{'vect__ngram_range': [(1, 1)],\n",
    "               'svc__C': [0.1, 0.15, 1, 10]}\n",
    "              ]\n",
    "\n",
    "svc_u_tfidf = Pipeline([('vect', tfidf),\n",
    "                     (\"svc\", SVC(random_state=0,kernel='linear',probability=True, tol=0.1))])\n",
    "\n",
    "gs_svc_u_tfidf = GridSearchCV(svc_u_tfidf, param_grid,\n",
    "                           scoring='accuracy',\n",
    "                           cv=5,\n",
    "                           verbose=0,\n",
    "                           n_jobs=-1)"
   ]
  },
  {
   "cell_type": "code",
   "execution_count": 46,
   "metadata": {
    "collapsed": false
   },
   "outputs": [
    {
     "data": {
      "text/plain": [
       "GridSearchCV(cv=5, error_score='raise',\n",
       "       estimator=Pipeline(steps=[('vect', TfidfVectorizer(analyzer=u'word', binary=False, decode_error=u'strict',\n",
       "        dtype=<type 'numpy.int64'>, encoding=u'utf-8', input=u'content',\n",
       "        lowercase=False, max_df=1.0, max_features=None, min_df=1,\n",
       "        ngram_range=(1, 1), norm=u'l2', preprocessor=None, smooth_idf=Tru...inear',\n",
       "  max_iter=-1, probability=True, random_state=0, shrinking=True, tol=0.1,\n",
       "  verbose=False))]),\n",
       "       fit_params={}, iid=True, n_jobs=-1,\n",
       "       param_grid=[{'vect__ngram_range': [(1, 1)], 'svc__C': [0.1, 0.15, 1, 10]}],\n",
       "       pre_dispatch='2*n_jobs', refit=True, return_train_score=True,\n",
       "       scoring='accuracy', verbose=0)"
      ]
     },
     "execution_count": 46,
     "metadata": {},
     "output_type": "execute_result"
    }
   ],
   "source": [
    "gs_svc_u_tfidf.fit(X_train, y_train)"
   ]
  },
  {
   "cell_type": "code",
   "execution_count": 47,
   "metadata": {
    "collapsed": false
   },
   "outputs": [
    {
     "name": "stdout",
     "output_type": "stream",
     "text": [
      "Best parameter set :  {'vect__ngram_range': (1, 1), 'svc__C': 10}\n",
      "CV Accuracy:  0.825\n"
     ]
    }
   ],
   "source": [
    "print 'Best parameter set : ' , gs_svc_u_tfidf.best_params_\n",
    "print 'CV Accuracy: ' , gs_svc_u_tfidf.best_score_"
   ]
  },
  {
   "cell_type": "code",
   "execution_count": 48,
   "metadata": {
    "collapsed": false
   },
   "outputs": [
    {
     "name": "stdout",
     "output_type": "stream",
     "text": [
      "Test Accuracy: 0.822\n"
     ]
    }
   ],
   "source": [
    "clf_svc_u_tfidf = gs_svc_u_tfidf.best_estimator_\n",
    "print 'Test Accuracy: %.3f' % clf_svc_u_tfidf.score(X_test,y_test)"
   ]
  },
  {
   "cell_type": "markdown",
   "metadata": {
    "collapsed": true
   },
   "source": [
    "#### Unigrams + Bigrams"
   ]
  },
  {
   "cell_type": "code",
   "execution_count": 49,
   "metadata": {
    "collapsed": false
   },
   "outputs": [],
   "source": [
    "param_grid = [{'vect__ngram_range': [(1, 2)],\n",
    "               'svc__C': [1, 10, 100, 1000]}\n",
    "             ]\n",
    "\n",
    "svc_b_tfidf = Pipeline([('vect', tfidf),\n",
    "                     (\"svc\", SVC(random_state=0,kernel='linear',probability=True, tol=0.1))])\n",
    "\n",
    "gs_svc_b_tfidf = GridSearchCV(svc_b_tfidf, param_grid,\n",
    "                           scoring='accuracy',\n",
    "                           cv=5,\n",
    "                           verbose=0,\n",
    "                           n_jobs=-1)"
   ]
  },
  {
   "cell_type": "code",
   "execution_count": 50,
   "metadata": {
    "collapsed": false
   },
   "outputs": [
    {
     "data": {
      "text/plain": [
       "GridSearchCV(cv=5, error_score='raise',\n",
       "       estimator=Pipeline(steps=[('vect', TfidfVectorizer(analyzer=u'word', binary=False, decode_error=u'strict',\n",
       "        dtype=<type 'numpy.int64'>, encoding=u'utf-8', input=u'content',\n",
       "        lowercase=False, max_df=1.0, max_features=None, min_df=1,\n",
       "        ngram_range=(1, 1), norm=u'l2', preprocessor=None, smooth_idf=Tru...inear',\n",
       "  max_iter=-1, probability=True, random_state=0, shrinking=True, tol=0.1,\n",
       "  verbose=False))]),\n",
       "       fit_params={}, iid=True, n_jobs=-1,\n",
       "       param_grid=[{'vect__ngram_range': [(1, 2)], 'svc__C': [1, 10, 100, 1000]}],\n",
       "       pre_dispatch='2*n_jobs', refit=True, return_train_score=True,\n",
       "       scoring='accuracy', verbose=0)"
      ]
     },
     "execution_count": 50,
     "metadata": {},
     "output_type": "execute_result"
    }
   ],
   "source": [
    "gs_svc_b_tfidf.fit(X_train, y_train)"
   ]
  },
  {
   "cell_type": "code",
   "execution_count": 51,
   "metadata": {
    "collapsed": false
   },
   "outputs": [
    {
     "name": "stdout",
     "output_type": "stream",
     "text": [
      "Best parameter set :  {'vect__ngram_range': (1, 2), 'svc__C': 10}\n",
      "CV Accuracy:  0.828\n"
     ]
    }
   ],
   "source": [
    "print 'Best parameter set : ' , gs_svc_b_tfidf.best_params_\n",
    "print 'CV Accuracy: ' , gs_svc_b_tfidf.best_score_"
   ]
  },
  {
   "cell_type": "code",
   "execution_count": 52,
   "metadata": {
    "collapsed": false
   },
   "outputs": [
    {
     "name": "stdout",
     "output_type": "stream",
     "text": [
      "Test Accuracy: 0.812\n"
     ]
    }
   ],
   "source": [
    "clf_svc_b_tfidf = gs_svc_b_tfidf.best_estimator_\n",
    "print 'Test Accuracy: %.3f' % clf_svc_b_tfidf.score(X_test,y_test)"
   ]
  },
  {
   "cell_type": "markdown",
   "metadata": {},
   "source": [
    "<br>\n",
    "## iii - Naive Bayes"
   ]
  },
  {
   "cell_type": "code",
   "execution_count": 53,
   "metadata": {
    "collapsed": true
   },
   "outputs": [],
   "source": [
    "from sklearn.naive_bayes import MultinomialNB\n",
    "# from sklearn.cross_validation import StratifiedKFold"
   ]
  },
  {
   "cell_type": "markdown",
   "metadata": {},
   "source": [
    "#### a. Using Term Presence"
   ]
  },
  {
   "cell_type": "code",
   "execution_count": 54,
   "metadata": {
    "collapsed": true
   },
   "outputs": [],
   "source": [
    "# nb = MultinomialNB(alpha=1)\n",
    "\n",
    "# kfold = StratifiedKFold(y = y_train,\n",
    "#                         n_folds = 5,\n",
    "#                         random_state = 0)\n",
    "# scores = []\n",
    "\n",
    "# for k, (train, test) in enumerate(kfold):\n",
    "#     nb.fit(X_pre[train], y_train[train])\n",
    "#     score = nb.score(X_pre[test], y_train[test])\n",
    "#     scores.append(score)\n",
    "\n",
    "# print 'Train accuracy: %.3f' %np.mean(scores)\n",
    "\n",
    "# print 'Test accuracy %.3f' %nb.score(count.transform(X_test),y_test)"
   ]
  },
  {
   "cell_type": "markdown",
   "metadata": {},
   "source": [
    "Alternative way"
   ]
  },
  {
   "cell_type": "code",
   "execution_count": 55,
   "metadata": {
    "collapsed": false
   },
   "outputs": [],
   "source": [
    "gs_nb_tp = GridSearchCV(MultinomialNB(),\n",
    "                    param_grid= [{}],\n",
    "                    scoring='accuracy',\n",
    "                    cv=5,\n",
    "                    verbose=0,\n",
    "                    n_jobs=-1)"
   ]
  },
  {
   "cell_type": "code",
   "execution_count": 56,
   "metadata": {
    "collapsed": false
   },
   "outputs": [
    {
     "data": {
      "text/plain": [
       "GridSearchCV(cv=5, error_score='raise',\n",
       "       estimator=MultinomialNB(alpha=1.0, class_prior=None, fit_prior=True),\n",
       "       fit_params={}, iid=True, n_jobs=-1, param_grid=[{}],\n",
       "       pre_dispatch='2*n_jobs', refit=True, return_train_score=True,\n",
       "       scoring='accuracy', verbose=0)"
      ]
     },
     "execution_count": 56,
     "metadata": {},
     "output_type": "execute_result"
    }
   ],
   "source": [
    "gs_nb_tp.fit(X_pre, y_train)"
   ]
  },
  {
   "cell_type": "code",
   "execution_count": 57,
   "metadata": {
    "collapsed": false
   },
   "outputs": [
    {
     "name": "stdout",
     "output_type": "stream",
     "text": [
      "Train accuracy 0.833\n"
     ]
    }
   ],
   "source": [
    "print 'Train accuracy %.3f' %gs_nb_tp.best_score_"
   ]
  },
  {
   "cell_type": "code",
   "execution_count": 58,
   "metadata": {
    "collapsed": false
   },
   "outputs": [
    {
     "name": "stdout",
     "output_type": "stream",
     "text": [
      "Test accuracy 0.780\n"
     ]
    }
   ],
   "source": [
    "clf_nb_tp = gs_nb_tp.best_estimator_\n",
    "print 'Test accuracy %.3f' %clf_nb_tp.score(X_pre_test,y_test)"
   ]
  },
  {
   "cell_type": "markdown",
   "metadata": {},
   "source": [
    "<br>\n",
    "#### b. Using Raw Term Frequencies"
   ]
  },
  {
   "cell_type": "code",
   "execution_count": 59,
   "metadata": {
    "collapsed": true
   },
   "outputs": [],
   "source": [
    "#### Unigrams\n",
    "\n",
    "param_grid = [{'vect__ngram_range': [(1, 1)],\n",
    "               'vect__use_idf':[False],\n",
    "               'vect__norm':[None],},\n",
    "              ]\n",
    "nb_u_rf = Pipeline([('vect', tfidf),\n",
    "                     (\"nb\", MultinomialNB())])\n",
    "\n",
    "gs_nb_u_rf = GridSearchCV(nb_u_rf, param_grid,\n",
    "                           scoring='accuracy',\n",
    "                           cv=5,\n",
    "                           verbose=0,\n",
    "                           n_jobs=-1)"
   ]
  },
  {
   "cell_type": "code",
   "execution_count": 60,
   "metadata": {
    "collapsed": false
   },
   "outputs": [
    {
     "data": {
      "text/plain": [
       "GridSearchCV(cv=5, error_score='raise',\n",
       "       estimator=Pipeline(steps=[('vect', TfidfVectorizer(analyzer=u'word', binary=False, decode_error=u'strict',\n",
       "        dtype=<type 'numpy.int64'>, encoding=u'utf-8', input=u'content',\n",
       "        lowercase=False, max_df=1.0, max_features=None, min_df=1,\n",
       "        ngram_range=(1, 1), norm=u'l2', preprocessor=None, smooth_idf=Tru...True,\n",
       "        vocabulary=None)), ('nb', MultinomialNB(alpha=1.0, class_prior=None, fit_prior=True))]),\n",
       "       fit_params={}, iid=True, n_jobs=-1,\n",
       "       param_grid=[{'vect__ngram_range': [(1, 1)], 'vect__norm': [None], 'vect__use_idf': [False]}],\n",
       "       pre_dispatch='2*n_jobs', refit=True, return_train_score=True,\n",
       "       scoring='accuracy', verbose=0)"
      ]
     },
     "execution_count": 60,
     "metadata": {},
     "output_type": "execute_result"
    }
   ],
   "source": [
    "gs_nb_u_rf.fit(X_train, y_train)"
   ]
  },
  {
   "cell_type": "code",
   "execution_count": 61,
   "metadata": {
    "collapsed": false
   },
   "outputs": [
    {
     "name": "stdout",
     "output_type": "stream",
     "text": [
      "Best parameter set :  {'vect__ngram_range': (1, 1), 'vect__norm': None, 'vect__use_idf': False}\n",
      "CV Accuracy:  0.806\n"
     ]
    }
   ],
   "source": [
    "print 'Best parameter set : ' , gs_nb_u_rf.best_params_\n",
    "print 'CV Accuracy: ' , gs_nb_u_rf.best_score_"
   ]
  },
  {
   "cell_type": "code",
   "execution_count": 62,
   "metadata": {
    "collapsed": false
   },
   "outputs": [
    {
     "name": "stdout",
     "output_type": "stream",
     "text": [
      "Test Accuracy: 0.796\n"
     ]
    }
   ],
   "source": [
    "clf_nb_u_rf = gs_nb_u_rf.best_estimator_\n",
    "print 'Test Accuracy: %.3f' % clf_nb_u_rf.score(X_test,y_test)"
   ]
  },
  {
   "cell_type": "markdown",
   "metadata": {},
   "source": [
    "#### Unigrams + Bigrams"
   ]
  },
  {
   "cell_type": "code",
   "execution_count": 63,
   "metadata": {
    "collapsed": true
   },
   "outputs": [],
   "source": [
    "param_grid = [{'vect__ngram_range': [(1, 2)],\n",
    "               'vect__use_idf':[False],\n",
    "               'vect__norm':[None],},\n",
    "              ]\n",
    "nb_b_rf = Pipeline([('vect', tfidf),\n",
    "                     (\"nb\", MultinomialNB())])\n",
    "\n",
    "gs_nb_b_rf = GridSearchCV(nb_b_rf, param_grid,\n",
    "                           scoring='accuracy',\n",
    "                           cv=5,\n",
    "                           verbose=0,\n",
    "                           n_jobs=-1)"
   ]
  },
  {
   "cell_type": "code",
   "execution_count": 64,
   "metadata": {
    "collapsed": false
   },
   "outputs": [
    {
     "data": {
      "text/plain": [
       "GridSearchCV(cv=5, error_score='raise',\n",
       "       estimator=Pipeline(steps=[('vect', TfidfVectorizer(analyzer=u'word', binary=False, decode_error=u'strict',\n",
       "        dtype=<type 'numpy.int64'>, encoding=u'utf-8', input=u'content',\n",
       "        lowercase=False, max_df=1.0, max_features=None, min_df=1,\n",
       "        ngram_range=(1, 1), norm=u'l2', preprocessor=None, smooth_idf=Tru...True,\n",
       "        vocabulary=None)), ('nb', MultinomialNB(alpha=1.0, class_prior=None, fit_prior=True))]),\n",
       "       fit_params={}, iid=True, n_jobs=-1,\n",
       "       param_grid=[{'vect__ngram_range': [(1, 2)], 'vect__norm': [None], 'vect__use_idf': [False]}],\n",
       "       pre_dispatch='2*n_jobs', refit=True, return_train_score=True,\n",
       "       scoring='accuracy', verbose=0)"
      ]
     },
     "execution_count": 64,
     "metadata": {},
     "output_type": "execute_result"
    }
   ],
   "source": [
    "gs_nb_b_rf.fit(X_train, y_train)"
   ]
  },
  {
   "cell_type": "code",
   "execution_count": 65,
   "metadata": {
    "collapsed": false
   },
   "outputs": [
    {
     "name": "stdout",
     "output_type": "stream",
     "text": [
      "Best parameter set :  {'vect__ngram_range': (1, 2), 'vect__norm': None, 'vect__use_idf': False}\n",
      "CV Accuracy:  0.812\n"
     ]
    }
   ],
   "source": [
    "print 'Best parameter set : ' , gs_nb_b_rf.best_params_\n",
    "print 'CV Accuracy: ' , gs_nb_b_rf.best_score_"
   ]
  },
  {
   "cell_type": "code",
   "execution_count": 66,
   "metadata": {
    "collapsed": false
   },
   "outputs": [
    {
     "name": "stdout",
     "output_type": "stream",
     "text": [
      "Test Accuracy: 0.806\n"
     ]
    }
   ],
   "source": [
    "clf_nb_b_rf = gs_nb_b_rf.best_estimator_\n",
    "print 'Test Accuracy: %.3f' % clf_nb_b_rf.score(X_test,y_test)"
   ]
  },
  {
   "cell_type": "markdown",
   "metadata": {},
   "source": [
    "<br>\n",
    "#### b. Using TF-ITF\n",
    "\n",
    "#### Unigrams"
   ]
  },
  {
   "cell_type": "code",
   "execution_count": 67,
   "metadata": {
    "collapsed": true
   },
   "outputs": [],
   "source": [
    "param_grid = [{'vect__ngram_range': [(1, 1)],},\n",
    "              ]\n",
    "nb_u_tfidf = Pipeline([('vect', tfidf),\n",
    "                     (\"nb\", MultinomialNB())])\n",
    "\n",
    "gs_nb_u_tfidf = GridSearchCV(nb_u_tfidf, param_grid,\n",
    "                           scoring='accuracy',\n",
    "                           cv=5,\n",
    "                           verbose=0,\n",
    "                           n_jobs=-1)"
   ]
  },
  {
   "cell_type": "code",
   "execution_count": 68,
   "metadata": {
    "collapsed": false
   },
   "outputs": [
    {
     "data": {
      "text/plain": [
       "GridSearchCV(cv=5, error_score='raise',\n",
       "       estimator=Pipeline(steps=[('vect', TfidfVectorizer(analyzer=u'word', binary=False, decode_error=u'strict',\n",
       "        dtype=<type 'numpy.int64'>, encoding=u'utf-8', input=u'content',\n",
       "        lowercase=False, max_df=1.0, max_features=None, min_df=1,\n",
       "        ngram_range=(1, 1), norm=u'l2', preprocessor=None, smooth_idf=Tru...True,\n",
       "        vocabulary=None)), ('nb', MultinomialNB(alpha=1.0, class_prior=None, fit_prior=True))]),\n",
       "       fit_params={}, iid=True, n_jobs=-1,\n",
       "       param_grid=[{'vect__ngram_range': [(1, 1)]}],\n",
       "       pre_dispatch='2*n_jobs', refit=True, return_train_score=True,\n",
       "       scoring='accuracy', verbose=0)"
      ]
     },
     "execution_count": 68,
     "metadata": {},
     "output_type": "execute_result"
    }
   ],
   "source": [
    "gs_nb_u_tfidf.fit(X_train, y_train)"
   ]
  },
  {
   "cell_type": "code",
   "execution_count": 69,
   "metadata": {
    "collapsed": false
   },
   "outputs": [
    {
     "name": "stdout",
     "output_type": "stream",
     "text": [
      "Best parameter set :  {'vect__ngram_range': (1, 1)}\n",
      "CV Accuracy:  0.814\n"
     ]
    }
   ],
   "source": [
    "print 'Best parameter set : ' , gs_nb_u_tfidf.best_params_\n",
    "print 'CV Accuracy: ' , gs_nb_u_tfidf.best_score_"
   ]
  },
  {
   "cell_type": "code",
   "execution_count": 70,
   "metadata": {
    "collapsed": false
   },
   "outputs": [
    {
     "name": "stdout",
     "output_type": "stream",
     "text": [
      "Test Accuracy: 0.794\n"
     ]
    }
   ],
   "source": [
    "clf_nb_u_tfidf = gs_nb_u_tfidf.best_estimator_\n",
    "print 'Test Accuracy: %.3f' % clf_nb_u_tfidf.score(X_test,y_test)"
   ]
  },
  {
   "cell_type": "markdown",
   "metadata": {},
   "source": [
    "#### Unigrams + Bigrams"
   ]
  },
  {
   "cell_type": "code",
   "execution_count": 71,
   "metadata": {
    "collapsed": false
   },
   "outputs": [],
   "source": [
    "param_grid = [{'vect__ngram_range': [(1, 2)]},\n",
    "              ]\n",
    "\n",
    "nb_b_tfidf = Pipeline([('vect', tfidf),\n",
    "                     (\"nb\", MultinomialNB())])\n",
    "\n",
    "gs_nb_b_tfidf = GridSearchCV(nb_b_tfidf, param_grid,\n",
    "                           scoring='accuracy',\n",
    "                           cv=5,\n",
    "                           verbose=0,\n",
    "                           n_jobs=-1)"
   ]
  },
  {
   "cell_type": "code",
   "execution_count": 72,
   "metadata": {
    "collapsed": false
   },
   "outputs": [
    {
     "data": {
      "text/plain": [
       "GridSearchCV(cv=5, error_score='raise',\n",
       "       estimator=Pipeline(steps=[('vect', TfidfVectorizer(analyzer=u'word', binary=False, decode_error=u'strict',\n",
       "        dtype=<type 'numpy.int64'>, encoding=u'utf-8', input=u'content',\n",
       "        lowercase=False, max_df=1.0, max_features=None, min_df=1,\n",
       "        ngram_range=(1, 1), norm=u'l2', preprocessor=None, smooth_idf=Tru...True,\n",
       "        vocabulary=None)), ('nb', MultinomialNB(alpha=1.0, class_prior=None, fit_prior=True))]),\n",
       "       fit_params={}, iid=True, n_jobs=-1,\n",
       "       param_grid=[{'vect__ngram_range': [(1, 2)]}],\n",
       "       pre_dispatch='2*n_jobs', refit=True, return_train_score=True,\n",
       "       scoring='accuracy', verbose=0)"
      ]
     },
     "execution_count": 72,
     "metadata": {},
     "output_type": "execute_result"
    }
   ],
   "source": [
    "gs_nb_b_tfidf.fit(X_train, y_train)"
   ]
  },
  {
   "cell_type": "code",
   "execution_count": 73,
   "metadata": {
    "collapsed": false
   },
   "outputs": [
    {
     "name": "stdout",
     "output_type": "stream",
     "text": [
      "Best parameter set :  {'vect__ngram_range': (1, 2)}\n",
      "CV Accuracy:  0.822\n"
     ]
    }
   ],
   "source": [
    "print 'Best parameter set : ' , gs_nb_b_tfidf.best_params_\n",
    "print 'CV Accuracy: ' , gs_nb_b_tfidf.best_score_"
   ]
  },
  {
   "cell_type": "code",
   "execution_count": 74,
   "metadata": {
    "collapsed": false
   },
   "outputs": [
    {
     "name": "stdout",
     "output_type": "stream",
     "text": [
      "Test Accuracy: 0.808\n"
     ]
    }
   ],
   "source": [
    "clf_nb_b_tfidf = gs_nb_b_tfidf.best_estimator_\n",
    "print 'Test Accuracy: %.3f' % clf_nb_b_tfidf.score(X_test,y_test)"
   ]
  },
  {
   "cell_type": "markdown",
   "metadata": {},
   "source": [
    "<br>\n",
    "<br>"
   ]
  },
  {
   "cell_type": "markdown",
   "metadata": {},
   "source": [
    "# Results"
   ]
  },
  {
   "cell_type": "code",
   "execution_count": 75,
   "metadata": {
    "collapsed": false
   },
   "outputs": [],
   "source": [
    "from sklearn.metrics import precision_score, recall_score, f1_score, roc_curve, auc"
   ]
  },
  {
   "cell_type": "markdown",
   "metadata": {},
   "source": [
    "#### Create result table"
   ]
  },
  {
   "cell_type": "code",
   "execution_count": 76,
   "metadata": {
    "collapsed": false
   },
   "outputs": [],
   "source": [
    "classifiers = [clf_lr_tp,clf_lr_u_rf, clf_lr_b_rf, clf_lr_u_tfidf, clf_lr_b_tfidf,\n",
    "               clf_svc_tp,clf_svc_u_rf, clf_svc_b_rf, clf_svc_u_tfidf, clf_svc_b_tfidf,\n",
    "               clf_nb_tp,clf_nb_u_rf, clf_nb_b_rf, clf_nb_u_tfidf, clf_nb_b_tfidf]\n",
    "\n",
    "classifiers_names = [\"log_reg_tp\",\"log_reg_unigram_rawfreq\", \"log_reg_unigram+bigram_rawfreq\", \"log_reg_unigram_tfidf\", \"log_reg_unigram+bigram_tfidf\",\n",
    "                     \"svc_tp\",\"svc_unigram_rawfreq\", \"svc_unigram+bigram_rawfreq\", \"svc_unigram_tfidf\", \"svc_unigram+bigram_tfidf\",\n",
    "                     \"nb_tp\",\"nb_unigram_rawfreq\", \"nb_unigram+bigram_rawfreq\", \"nb_unigram_tfidf\", \"nb_unigram+bigram_tfidf\"]    "
   ]
  },
  {
   "cell_type": "code",
   "execution_count": 77,
   "metadata": {
    "collapsed": false
   },
   "outputs": [],
   "source": [
    "table = {}\n",
    "k = 0\n",
    "for c in classifiers:\n",
    "    if classifiers_names[k][-2:] == 'tp':\n",
    "        probas = c.predict_proba(X_pre_test)[:,1]\n",
    "        y_test_pred = c.predict(X_pre_test)\n",
    "        accuracy = c.score(X_pre_test,y_test)\n",
    "    else:    \n",
    "        probas = c.predict_proba(X_test)[:,1]\n",
    "        y_test_pred = c.predict(X_test)\n",
    "        accuracy = c.score(X_test,y_test)\n",
    "        \n",
    "    fpr, tpr, thresholds = roc_curve(y_test, probas)\n",
    "    roc_auc = auc(fpr,tpr)\n",
    "    f1 = f1_score(y_test,y_test_pred)\n",
    "    table[k] = {'name' : classifiers_names[k],\n",
    "              'f1_score' : f1,\n",
    "              'accuracy':accuracy,  \n",
    "              'fpr' : fpr, 'tpr' : tpr, 'auc' : roc_auc}\n",
    "    k+=1"
   ]
  },
  {
   "cell_type": "markdown",
   "metadata": {},
   "source": [
    "#### ROC Curve and AUC scores"
   ]
  },
  {
   "cell_type": "code",
   "execution_count": 93,
   "metadata": {
    "collapsed": false
   },
   "outputs": [
    {
     "data": {
      "image/png": "[encoded data removed]",
      "text/plain": [
       "<matplotlib.figure.Figure at 0x7ff22de5d790>"
      ]
     },
     "metadata": {},
     "output_type": "display_data"
    },
    {
     "data": {
      "text/plain": [
       "<matplotlib.figure.Figure at 0x7ff22de89a50>"
      ]
     },
     "metadata": {},
     "output_type": "display_data"
    }
   ],
   "source": [
    "\n",
    "plt.figure(figsize=(12,8))\n",
    "for e in range(k):\n",
    "    if table[e]['name'][:3] == 'log':\n",
    "        plt.plot(table[e]['fpr'], table[e]['tpr'],linestyle='--',\n",
    "                 label='%s : %0.2f' % (table[e]['name'],table[e]['auc']))\n",
    "    elif table[e]['name'][:3] == 'svc':\n",
    "        plt.plot(table[e]['fpr'], table[e]['tpr'],linestyle=':',\n",
    "                 label='%s : %0.2f' % (table[e]['name'],table[e]['auc']))\n",
    "    else:\n",
    "        plt.plot(table[e]['fpr'], table[e]['tpr'],\n",
    "                 label='%s : %0.2f' % (table[e]['name'],table[e]['auc']))\n",
    "\n",
    "# plt.plot([0, 1], [0, 1],  linestyle=':', color='black', alpha=.2)\n",
    "plt.xlabel('False Positive Rate')\n",
    "plt.ylabel('True Positive Rate')\n",
    "plt.title('Receiver operating characteristic')\n",
    "plt.legend(title='AUC',loc=\"lower right\", framealpha=.01)\n",
    "plt.tight_layout()\n",
    "plt.show()"
   ]
  },
  {
   "cell_type": "code",
   "execution_count": 79,
   "metadata": {
    "collapsed": false
   },
   "outputs": [
    {
     "name": "stdout",
     "output_type": "stream",
     "text": [
      "log_reg_tp \t\t0.83 0.842300556586\n",
      "log_reg_unigram_rawfreq \t\t0.822 0.825831702544\n",
      "log_reg_unigram+bigram_rawfreq \t\t0.828 0.825910931174\n",
      "log_reg_unigram_tfidf \t\t0.822 0.825831702544\n",
      "log_reg_unigram+bigram_tfidf \t\t0.808 0.81954887218\n",
      "svc_tp \t\t0.52 0.68085106383\n",
      "svc_unigram_rawfreq \t\t0.806 0.805611222445\n",
      "svc_unigram+bigram_rawfreq \t\t0.822 0.819472616633\n",
      "svc_unigram_tfidf \t\t0.822 0.826510721248\n",
      "svc_unigram+bigram_tfidf \t\t0.812 0.82196969697\n",
      "nb_tp \t\t0.78 0.756637168142\n",
      "nb_unigram_rawfreq \t\t0.796 0.80078125\n",
      "nb_unigram+bigram_rawfreq \t\t0.806 0.823956442831\n",
      "nb_unigram_tfidf \t\t0.794 0.79107505071\n",
      "nb_unigram+bigram_tfidf \t\t0.808 0.823529411765\n"
     ]
    }
   ],
   "source": [
    "for e in range(len(table)):\n",
    "    print table[e]['name'],'\\t\\t', table[e]['accuracy'], table[e]['f1_score']"
   ]
  },
  {
   "cell_type": "code",
   "execution_count": 80,
   "metadata": {
    "collapsed": false
   },
   "outputs": [
    {
     "data": {
      "text/html": [
       "<div>\n",
       "<style>\n",
       "    .dataframe thead tr:only-child th {\n",
       "        text-align: right;\n",
       "    }\n",
       "\n",
       "    .dataframe thead th {\n",
       "        text-align: left;\n",
       "    }\n",
       "\n",
       "    .dataframe tbody tr th {\n",
       "        vertical-align: top;\n",
       "    }\n",
       "</style>\n",
       "<table border=\"1\" class=\"dataframe\">\n",
       "  <thead>\n",
       "    <tr style=\"text-align: right;\">\n",
       "      <th></th>\n",
       "      <th>accuracy</th>\n",
       "      <th>auc</th>\n",
       "      <th>f1_score</th>\n",
       "    </tr>\n",
       "  </thead>\n",
       "  <tbody>\n",
       "    <tr>\n",
       "      <th>log_reg_tp</th>\n",
       "      <td>0.830</td>\n",
       "      <td>0.904665</td>\n",
       "      <td>0.842301</td>\n",
       "    </tr>\n",
       "    <tr>\n",
       "      <th>log_reg_unigram_rawfreq</th>\n",
       "      <td>0.822</td>\n",
       "      <td>0.906810</td>\n",
       "      <td>0.825832</td>\n",
       "    </tr>\n",
       "    <tr>\n",
       "      <th>log_reg_unigram+bigram_rawfreq</th>\n",
       "      <td>0.828</td>\n",
       "      <td>0.913822</td>\n",
       "      <td>0.825911</td>\n",
       "    </tr>\n",
       "    <tr>\n",
       "      <th>log_reg_unigram_tfidf</th>\n",
       "      <td>0.822</td>\n",
       "      <td>0.909596</td>\n",
       "      <td>0.825832</td>\n",
       "    </tr>\n",
       "    <tr>\n",
       "      <th>log_reg_unigram+bigram_tfidf</th>\n",
       "      <td>0.808</td>\n",
       "      <td>0.905930</td>\n",
       "      <td>0.819549</td>\n",
       "    </tr>\n",
       "    <tr>\n",
       "      <th>svc_tp</th>\n",
       "      <td>0.520</td>\n",
       "      <td>0.698706</td>\n",
       "      <td>0.680851</td>\n",
       "    </tr>\n",
       "    <tr>\n",
       "      <th>svc_unigram_rawfreq</th>\n",
       "      <td>0.806</td>\n",
       "      <td>0.894579</td>\n",
       "      <td>0.805611</td>\n",
       "    </tr>\n",
       "    <tr>\n",
       "      <th>svc_unigram+bigram_rawfreq</th>\n",
       "      <td>0.822</td>\n",
       "      <td>0.904201</td>\n",
       "      <td>0.819473</td>\n",
       "    </tr>\n",
       "    <tr>\n",
       "      <th>svc_unigram_tfidf</th>\n",
       "      <td>0.822</td>\n",
       "      <td>0.908211</td>\n",
       "      <td>0.826511</td>\n",
       "    </tr>\n",
       "    <tr>\n",
       "      <th>svc_unigram+bigram_tfidf</th>\n",
       "      <td>0.812</td>\n",
       "      <td>0.913422</td>\n",
       "      <td>0.821970</td>\n",
       "    </tr>\n",
       "    <tr>\n",
       "      <th>nb_tp</th>\n",
       "      <td>0.780</td>\n",
       "      <td>0.878906</td>\n",
       "      <td>0.756637</td>\n",
       "    </tr>\n",
       "    <tr>\n",
       "      <th>nb_unigram_rawfreq</th>\n",
       "      <td>0.796</td>\n",
       "      <td>0.863129</td>\n",
       "      <td>0.800781</td>\n",
       "    </tr>\n",
       "    <tr>\n",
       "      <th>nb_unigram+bigram_rawfreq</th>\n",
       "      <td>0.806</td>\n",
       "      <td>0.866235</td>\n",
       "      <td>0.823956</td>\n",
       "    </tr>\n",
       "    <tr>\n",
       "      <th>nb_unigram_tfidf</th>\n",
       "      <td>0.794</td>\n",
       "      <td>0.887055</td>\n",
       "      <td>0.791075</td>\n",
       "    </tr>\n",
       "    <tr>\n",
       "      <th>nb_unigram+bigram_tfidf</th>\n",
       "      <td>0.808</td>\n",
       "      <td>0.901415</td>\n",
       "      <td>0.823529</td>\n",
       "    </tr>\n",
       "  </tbody>\n",
       "</table>\n",
       "</div>"
      ],
      "text/plain": [
       "                                accuracy       auc  f1_score\n",
       "log_reg_tp                         0.830  0.904665  0.842301\n",
       "log_reg_unigram_rawfreq            0.822  0.906810  0.825832\n",
       "log_reg_unigram+bigram_rawfreq     0.828  0.913822  0.825911\n",
       "log_reg_unigram_tfidf              0.822  0.909596  0.825832\n",
       "log_reg_unigram+bigram_tfidf       0.808  0.905930  0.819549\n",
       "svc_tp                             0.520  0.698706  0.680851\n",
       "svc_unigram_rawfreq                0.806  0.894579  0.805611\n",
       "svc_unigram+bigram_rawfreq         0.822  0.904201  0.819473\n",
       "svc_unigram_tfidf                  0.822  0.908211  0.826511\n",
       "svc_unigram+bigram_tfidf           0.812  0.913422  0.821970\n",
       "nb_tp                              0.780  0.878906  0.756637\n",
       "nb_unigram_rawfreq                 0.796  0.863129  0.800781\n",
       "nb_unigram+bigram_rawfreq          0.806  0.866235  0.823956\n",
       "nb_unigram_tfidf                   0.794  0.887055  0.791075\n",
       "nb_unigram+bigram_tfidf            0.808  0.901415  0.823529"
      ]
     },
     "execution_count": 80,
     "metadata": {},
     "output_type": "execute_result"
    }
   ],
   "source": [
    "dene = pd.DataFrame([table[e] for e in table], index=[table[e]['name'] for e in range(15)])\n",
    "dene = dene.drop(['fpr','tpr','name'],1)\n",
    "dene"
   ]
  },
  {
   "cell_type": "markdown",
   "metadata": {},
   "source": [
    "| Features |  Frequency <br/> or Presence? || Accuracy | || F1-Score ||\n",
    "| :---: |  :---:  | ---:  |  :---:  |   :--- |   ---: |   :---: |   :--- |\n",
    "|  |                          | **NB** | **LogReg** | **SVM** | **NB** | **LogReg** | **SVM** |\n",
    "| unirams  | pres.            | 0.78  |     **0.83 **    |0.52     | 0.76  | 0.85  | 0.68  |\n",
    "| unirams    | freq.          | **0.90**  |     0.82     |   0.81   | 0.80  |  0.83 |0.80\n",
    "| unirams    | tf-idf         | 0.81  |     **0.83**     |   0.82   | 0.82  | 0.83  | 0.82  | \n",
    "| unigram + bigrams   |  freq.| 0.79  |     **0.82**     |  **0.82 **  | 0.80  | 0.83  | 0.83  |\n",
    "| unigram + bigrams   | tf-idf| **0.81**  |     **0.81**     |  **0.81 **  |0.82   | 0.82  |0.82   |\n",
    "\n",
    "\n",
    "\n"
   ]
  }
 ],
 "metadata": {
  "kernelspec": {
   "display_name": "Python [Root]",
   "language": "python",
   "name": "Python [Root]"
  },
  "language_info": {
   "codemirror_mode": {
    "name": "ipython",
    "version": 2
   },
   "file_extension": ".py",
   "mimetype": "text/x-python",
   "name": "python",
   "nbconvert_exporter": "python",
   "pygments_lexer": "ipython2",
   "version": "2.7.12"
  }
 },
 "nbformat": 4,
 "nbformat_minor": 0
}
